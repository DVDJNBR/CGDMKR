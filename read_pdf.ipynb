{
 "cells": [
  {
   "cell_type": "code",
   "execution_count": null,
   "id": "b48183a1",
   "metadata": {},
   "outputs": [],
   "source": [
    "import camelot\n",
    "import pandas as pd\n",
    "from pathlib import Path"
   ]
  },
  {
   "cell_type": "code",
   "execution_count": null,
   "id": "f05df4ba",
   "metadata": {},
   "outputs": [
    {
     "ename": "ValueError",
     "evalue": "column must be a scalar, tuple, or list thereof",
     "output_type": "error",
     "traceback": [
      "\u001b[31m---------------------------------------------------------------------------\u001b[39m",
      "\u001b[31mValueError\u001b[39m                                Traceback (most recent call last)",
      "\u001b[32m/tmp/ipykernel_1342/1510863402.py\u001b[39m in \u001b[36m?\u001b[39m\u001b[34m()\u001b[39m\n\u001b[32m      7\u001b[39m )\n\u001b[32m      8\u001b[39m df = tables[\u001b[32m0\u001b[39m].df\n\u001b[32m      9\u001b[39m df.columns = df.iloc[\u001b[32m0\u001b[39m]\n\u001b[32m     10\u001b[39m df = df.iloc[\u001b[32m1\u001b[39m:]\n\u001b[32m---> \u001b[39m\u001b[32m11\u001b[39m df = df.explode(df.columns)\n\u001b[32m     12\u001b[39m df\n",
      "\u001b[32m~/CGDMKR/.venv/lib/python3.14/site-packages/pandas/core/frame.py\u001b[39m in \u001b[36m?\u001b[39m\u001b[34m(self, column, ignore_index)\u001b[39m\n\u001b[32m   9865\u001b[39m             \u001b[38;5;28;01mif\u001b[39;00m len(column) > len(set(column)):\n\u001b[32m   9866\u001b[39m                 \u001b[38;5;28;01mraise\u001b[39;00m ValueError(\u001b[33m\"column must be unique\"\u001b[39m)\n\u001b[32m   9867\u001b[39m             columns = column\n\u001b[32m   9868\u001b[39m         \u001b[38;5;28;01melse\u001b[39;00m:\n\u001b[32m-> \u001b[39m\u001b[32m9869\u001b[39m             \u001b[38;5;28;01mraise\u001b[39;00m ValueError(\u001b[33m\"column must be a scalar, tuple, or list thereof\"\u001b[39m)\n\u001b[32m   9870\u001b[39m \n\u001b[32m   9871\u001b[39m         df = self.reset_index(drop=\u001b[38;5;28;01mTrue\u001b[39;00m)\n\u001b[32m   9872\u001b[39m         \u001b[38;5;28;01mif\u001b[39;00m len(columns) == \u001b[32m1\u001b[39m:\n",
      "\u001b[31mValueError\u001b[39m: column must be a scalar, tuple, or list thereof"
     ]
    }
   ],
   "source": [
    "pdf_path = Path('DATA') / 'Sfirm.pdf'\n",
    "\n",
    "tables = camelot.read_pdf(\n",
    "    pdf_path,\n",
    "    flavor = 'lattice',\n",
    "    pages='all'\n",
    ")\n",
    "###### EXPLORE THE .EXPLODE()   \n",
    "df = tables[0].df\n",
    "df.columns = df.iloc[0]\n",
    "df = df.iloc[1:]\n",
    "df = df.explode(df.columns)\n",
    "df\n"
   ]
  }
 ],
 "metadata": {
  "kernelspec": {
   "display_name": ".venv",
   "language": "python",
   "name": "python3"
  },
  "language_info": {
   "codemirror_mode": {
    "name": "ipython",
    "version": 3
   },
   "file_extension": ".py",
   "mimetype": "text/x-python",
   "name": "python",
   "nbconvert_exporter": "python",
   "pygments_lexer": "ipython3",
   "version": "3.14.0rc2"
  }
 },
 "nbformat": 4,
 "nbformat_minor": 5
}
